{
  "nbformat": 4,
  "nbformat_minor": 0,
  "metadata": {
    "colab": {
      "name": "Papel, piedra o tijera",
      "provenance": [],
      "authorship_tag": "ABX9TyN6v4EjNIyYtFLxjxN4ejCh",
      "include_colab_link": true
    },
    "kernelspec": {
      "name": "python3",
      "display_name": "Python 3"
    }
  },
  "cells": [
    {
      "cell_type": "markdown",
      "metadata": {
        "id": "view-in-github",
        "colab_type": "text"
      },
      "source": [
        "<a href=\"https://colab.research.google.com/github/SantiFO94/2020-hackathon-zero-python-retos-pool-7/blob/master/Papel%2C_piedra_o_tijera.ipynb\" target=\"_parent\"><img src=\"https://colab.research.google.com/assets/colab-badge.svg\" alt=\"Open In Colab\"/></a>"
      ]
    },
    {
      "cell_type": "code",
      "metadata": {
        "id": "0BAmXXKsn1Pb",
        "colab_type": "code",
        "colab": {}
      },
      "source": [
        ""
      ],
      "execution_count": 0,
      "outputs": []
    },
    {
      "cell_type": "code",
      "metadata": {
        "id": "LfyljgU0jgnm",
        "colab_type": "code",
        "outputId": "e4990dbd-59ca-4214-ffac-045669103068",
        "colab": {
          "base_uri": "https://localhost:8080/",
          "height": 68
        }
      },
      "source": [
        "from random import randint    #importamos la función para elegir números aleatorios de random\n",
        "\n",
        "options = [\"Piedra\", \"Papel\", \"Tijeras\"]  #establecemos las opciones para la ia\n",
        "\n",
        "player = input(\"Elija piedra, papel o tijeras: \")    #Pedimos la opción del jugador\n",
        "player = player.lower()                   #eliminamos diferencias de mayúsculas\n",
        "\n",
        "ai = options[randint(0, 2)]     #elección aleatoria por la ia\n",
        "ai = ai.lower()\n",
        "print(ai)\n",
        "Game()      #ejecutamos el juego\n",
        "\n",
        "def quienGana(player, ai):    #definimos las reglas del juego\n",
        "\n",
        "    if player == ai:          #Comparamos las elecciones para ver quién gana\n",
        "        return \"Empate!\"\n",
        "    elif (player == \"piedra\" and ai == \"papel\") or (player == \"papel\" and ai == \"tijeras\") or (player == \"tijeras\" and ai == \"piedra\"):\n",
        "        return \"Perdiste!\"\n",
        "    elif (player == \"piedra\" and ai == \"tijeras\") or (player == \"tijeras\" and ai == \"papel\") or (player == \"papel\" and ai == \"piedra\"):\n",
        "        return \"Ganaste!\"\n",
        "    else:\n",
        "        return \"Elige piedra, papel o tijeras\"\n",
        "     \n",
        "def Game():     #definimos el juego\n",
        "    \n",
        "    winner = quienGana(player, ai)\n",
        "\n",
        "    print(winner)\n"
      ],
      "execution_count": 54,
      "outputs": [
        {
          "output_type": "stream",
          "text": [
            "Elija piedra, papel o tijeras: Papel\n",
            "tijeras\n",
            "Perdiste!\n"
          ],
          "name": "stdout"
        }
      ]
    }
  ]
}